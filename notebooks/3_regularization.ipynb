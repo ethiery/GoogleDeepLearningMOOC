{
 "cells": [
  {
   "cell_type": "markdown",
   "metadata": {
    "colab_type": "text",
    "id": "kR-4eNdK6lYS"
   },
   "source": [
    "Deep Learning\n",
    "=============\n",
    "\n",
    "Assignment 3\n",
    "------------\n",
    "\n",
    "Previously in `2_fullyconnected.ipynb`, you trained a logistic regression and a neural network model.\n",
    "\n",
    "The goal of this assignment is to explore regularization techniques."
   ]
  },
  {
   "cell_type": "code",
   "execution_count": 1,
   "metadata": {
    "cellView": "both",
    "colab": {
     "autoexec": {
      "startup": false,
      "wait_interval": 0
     }
    },
    "colab_type": "code",
    "collapsed": true,
    "id": "JLpLa8Jt7Vu4"
   },
   "outputs": [],
   "source": [
    "# These are all the modules we'll be using later. Make sure you can import them\n",
    "# before proceeding further.\n",
    "from __future__ import print_function\n",
    "import numpy as np\n",
    "import tensorflow as tf\n",
    "from six.moves import cPickle as pickle"
   ]
  },
  {
   "cell_type": "markdown",
   "metadata": {
    "colab_type": "text",
    "id": "1HrCK6e17WzV"
   },
   "source": [
    "First reload the data we generated in _notmist.ipynb_."
   ]
  },
  {
   "cell_type": "code",
   "execution_count": 2,
   "metadata": {
    "cellView": "both",
    "colab": {
     "autoexec": {
      "startup": false,
      "wait_interval": 0
     },
     "output_extras": [
      {
       "item_id": 1
      }
     ]
    },
    "colab_type": "code",
    "collapsed": false,
    "executionInfo": {
     "elapsed": 11777,
     "status": "ok",
     "timestamp": 1449849322348,
     "user": {
      "color": "",
      "displayName": "",
      "isAnonymous": false,
      "isMe": true,
      "permissionId": "",
      "photoUrl": "",
      "sessionId": "0",
      "userId": ""
     },
     "user_tz": 480
    },
    "id": "y3-cj1bpmuxc",
    "outputId": "e03576f1-ebbe-4838-c388-f1777bcc9873"
   },
   "outputs": [
    {
     "name": "stdout",
     "output_type": "stream",
     "text": [
      "Training set (200000, 28, 28) (200000,)\n",
      "Validation set (10000, 28, 28) (10000,)\n",
      "Test set (10000, 28, 28) (10000,)\n"
     ]
    }
   ],
   "source": [
    "pickle_file = 'notMNIST.pickle'\n",
    "\n",
    "with open(pickle_file, 'rb') as f:\n",
    "  save = pickle.load(f)\n",
    "  train_dataset = save['train_dataset']\n",
    "  train_labels = save['train_labels']\n",
    "  valid_dataset = save['valid_dataset']\n",
    "  valid_labels = save['valid_labels']\n",
    "  test_dataset = save['test_dataset']\n",
    "  test_labels = save['test_labels']\n",
    "  del save  # hint to help gc free up memory\n",
    "  print('Training set', train_dataset.shape, train_labels.shape)\n",
    "  print('Validation set', valid_dataset.shape, valid_labels.shape)\n",
    "  print('Test set', test_dataset.shape, test_labels.shape)"
   ]
  },
  {
   "cell_type": "markdown",
   "metadata": {
    "colab_type": "text",
    "id": "L7aHrm6nGDMB"
   },
   "source": [
    "Reformat into a shape that's more adapted to the models we're going to train:\n",
    "- data as a flat matrix,\n",
    "- labels as float 1-hot encodings."
   ]
  },
  {
   "cell_type": "code",
   "execution_count": 3,
   "metadata": {
    "cellView": "both",
    "colab": {
     "autoexec": {
      "startup": false,
      "wait_interval": 0
     },
     "output_extras": [
      {
       "item_id": 1
      }
     ]
    },
    "colab_type": "code",
    "collapsed": false,
    "executionInfo": {
     "elapsed": 11728,
     "status": "ok",
     "timestamp": 1449849322356,
     "user": {
      "color": "",
      "displayName": "",
      "isAnonymous": false,
      "isMe": true,
      "permissionId": "",
      "photoUrl": "",
      "sessionId": "0",
      "userId": ""
     },
     "user_tz": 480
    },
    "id": "IRSyYiIIGIzS",
    "outputId": "3f8996ee-3574-4f44-c953-5c8a04636582"
   },
   "outputs": [
    {
     "name": "stdout",
     "output_type": "stream",
     "text": [
      "Training set (200000, 784) (200000, 10)\n",
      "Validation set (10000, 784) (10000, 10)\n",
      "Test set (10000, 784) (10000, 10)\n"
     ]
    }
   ],
   "source": [
    "image_size = 28\n",
    "num_labels = 10\n",
    "\n",
    "def reformat(dataset, labels):\n",
    "  dataset = dataset.reshape((-1, image_size * image_size)).astype(np.float32)\n",
    "  # Map 2 to [0.0, 1.0, 0.0 ...], 3 to [0.0, 0.0, 1.0 ...]\n",
    "  labels = (np.arange(num_labels) == labels[:,None]).astype(np.float32)\n",
    "  return dataset, labels\n",
    "train_dataset, train_labels = reformat(train_dataset, train_labels)\n",
    "valid_dataset, valid_labels = reformat(valid_dataset, valid_labels)\n",
    "test_dataset, test_labels = reformat(test_dataset, test_labels)\n",
    "print('Training set', train_dataset.shape, train_labels.shape)\n",
    "print('Validation set', valid_dataset.shape, valid_labels.shape)\n",
    "print('Test set', test_dataset.shape, test_labels.shape)"
   ]
  },
  {
   "cell_type": "code",
   "execution_count": 4,
   "metadata": {
    "cellView": "both",
    "colab": {
     "autoexec": {
      "startup": false,
      "wait_interval": 0
     }
    },
    "colab_type": "code",
    "collapsed": true,
    "id": "RajPLaL_ZW6w"
   },
   "outputs": [],
   "source": [
    "def accuracy(predictions, labels):\n",
    "  return (100.0 * np.sum(np.argmax(predictions, 1) == np.argmax(labels, 1))\n",
    "          / predictions.shape[0])"
   ]
  },
  {
   "cell_type": "markdown",
   "metadata": {
    "colab_type": "text",
    "id": "sgLbUAQ1CW-1"
   },
   "source": [
    "---\n",
    "Problem 1\n",
    "---------\n",
    "\n",
    "Introduce and tune L2 regularization for both logistic and neural network models. Remember that L2 amounts to adding a penalty on the norm of the weights to the loss. In TensorFlow, you can compute the L2 loss for a tensor `t` using `nn.l2_loss(t)`. The right amount of regularization should improve your validation / test accuracy.\n",
    "\n",
    "---"
   ]
  },
  {
   "cell_type": "code",
   "execution_count": 10,
   "metadata": {
    "collapsed": true
   },
   "outputs": [],
   "source": [
    "graph = tf.Graph()\n",
    "with graph.as_default():\n",
    "    # variable bash size\n",
    "    tf_train_dataset = tf.placeholder(tf.float32,shape=[None, image_size * image_size])\n",
    "    tf_train_labels = tf.placeholder(tf.float32, shape=[None, num_labels])\n",
    "    # variable regularization parameter\n",
    "    tf_p_regularization = tf.placeholder(tf.float32, shape=[])\n",
    "    # variable learning rate\n",
    "    tf_p_learning_rate = tf.placeholder(tf.float32, shape=[])\n",
    "    # variable momentum\n",
    "    # tf_p_momentum = tf.placeholder(tf.float32, shape=[])\n",
    "\n",
    "    tf_valid_dataset = tf.constant(valid_dataset)\n",
    "    tf_test_dataset = tf.constant(test_dataset)\n",
    "  \n",
    "    weights = tf.Variable(tf.truncated_normal([image_size * image_size, num_labels]))\n",
    "    biases = tf.Variable(tf.zeros([num_labels]))\n",
    "  \n",
    "  \n",
    "    logits = tf.matmul(tf_train_dataset, weights) + biases\n",
    "    loss = (tf.reduce_mean(tf.nn.softmax_cross_entropy_with_logits(logits, tf_train_labels)) \n",
    "            + tf_p_regularization * tf.nn.l2_loss(weights))\n",
    "  \n",
    "    optimizer = tf.train.GradientDescentOptimizer(tf_p_learning_rate).minimize(loss)\n",
    "  \n",
    "    # Predictions\n",
    "    train_prediction = tf.nn.softmax(logits)\n",
    "    valid_prediction = tf.nn.softmax(tf.matmul(tf_valid_dataset, weights) + biases)\n",
    "    test_prediction = tf.nn.softmax(tf.matmul(tf_test_dataset, weights) + biases)"
   ]
  },
  {
   "cell_type": "code",
   "execution_count": 28,
   "metadata": {
    "collapsed": false,
    "scrolled": true
   },
   "outputs": [
    {
     "name": "stdout",
     "output_type": "stream",
     "text": [
      "Step 0, learning rate 0.50: minibatch loss = 14.23, minibatch accuracy = 13.28\n",
      "Step 500, learning rate 0.40: minibatch loss = 1.41, minibatch accuracy = 76.56\n",
      "Step 1000, learning rate 0.32: minibatch loss = 1.61, minibatch accuracy = 75.00\n",
      "Step 1500, learning rate 0.26: minibatch loss = 1.17, minibatch accuracy = 78.12\n",
      "Step 2000, learning rate 0.20: minibatch loss = 1.35, minibatch accuracy = 76.56\n",
      "Step 2500, learning rate 0.16: minibatch loss = 1.12, minibatch accuracy = 75.00\n",
      "Step 3000, learning rate 0.13: minibatch loss = 0.77, minibatch accuracy = 80.47\n",
      "Step 3500, learning rate 0.10: minibatch loss = 1.36, minibatch accuracy = 71.88\n",
      "Step 4000, learning rate 0.08: minibatch loss = 0.94, minibatch accuracy = 79.69\n",
      "Step 4500, learning rate 0.07: minibatch loss = 0.71, minibatch accuracy = 89.84\n",
      "Final validation accuracy with batch_size = 128, regularization parameter = 0.000, init_learning_rate = 0.50 : 78.27\n",
      "\n",
      "Step 0, learning rate 0.50: minibatch loss = 21.19, minibatch accuracy = 15.62\n",
      "Step 500, learning rate 0.40: minibatch loss = 3.18, minibatch accuracy = 74.22\n",
      "Step 1000, learning rate 0.32: minibatch loss = 2.11, minibatch accuracy = 77.34\n",
      "Step 1500, learning rate 0.26: minibatch loss = 1.56, minibatch accuracy = 76.56\n",
      "Step 2000, learning rate 0.20: minibatch loss = 1.48, minibatch accuracy = 77.34\n",
      "Step 2500, learning rate 0.16: minibatch loss = 1.23, minibatch accuracy = 81.25\n",
      "Step 3000, learning rate 0.13: minibatch loss = 0.88, minibatch accuracy = 86.72\n",
      "Step 3500, learning rate 0.10: minibatch loss = 1.27, minibatch accuracy = 77.34\n",
      "Step 4000, learning rate 0.08: minibatch loss = 1.01, minibatch accuracy = 81.25\n",
      "Step 4500, learning rate 0.07: minibatch loss = 0.76, minibatch accuracy = 92.19\n",
      "Final validation accuracy with batch_size = 128, regularization parameter = 0.001, init_learning_rate = 0.50 : 81.46\n",
      "\n",
      "Step 0, learning rate 0.50: minibatch loss = 24.46, minibatch accuracy = 8.59\n",
      "Step 500, learning rate 0.40: minibatch loss = 3.19, minibatch accuracy = 77.34\n",
      "Step 1000, learning rate 0.32: minibatch loss = 1.62, minibatch accuracy = 81.25\n",
      "Step 1500, learning rate 0.26: minibatch loss = 1.01, minibatch accuracy = 84.38\n",
      "Step 2000, learning rate 0.20: minibatch loss = 0.89, minibatch accuracy = 81.25\n",
      "Step 2500, learning rate 0.16: minibatch loss = 0.77, minibatch accuracy = 81.25\n",
      "Step 3000, learning rate 0.13: minibatch loss = 0.52, minibatch accuracy = 89.84\n",
      "Step 3500, learning rate 0.10: minibatch loss = 0.87, minibatch accuracy = 78.12\n",
      "Step 4000, learning rate 0.08: minibatch loss = 0.60, minibatch accuracy = 85.94\n",
      "Step 4500, learning rate 0.07: minibatch loss = 0.50, minibatch accuracy = 89.84\n",
      "Final validation accuracy with batch_size = 128, regularization parameter = 0.003, init_learning_rate = 0.50 : 82.95\n",
      "\n",
      "Step 0, learning rate 0.50: minibatch loss = 46.95, minibatch accuracy = 12.50\n",
      "Step 500, learning rate 0.40: minibatch loss = 1.16, minibatch accuracy = 81.25\n",
      "Step 1000, learning rate 0.32: minibatch loss = 0.81, minibatch accuracy = 81.25\n",
      "Step 1500, learning rate 0.26: minibatch loss = 0.68, minibatch accuracy = 85.16\n",
      "Step 2000, learning rate 0.20: minibatch loss = 0.73, minibatch accuracy = 82.03\n",
      "Step 2500, learning rate 0.16: minibatch loss = 0.72, minibatch accuracy = 82.81\n",
      "Step 3000, learning rate 0.13: minibatch loss = 0.53, minibatch accuracy = 89.84\n",
      "Step 3500, learning rate 0.10: minibatch loss = 0.89, minibatch accuracy = 78.12\n",
      "Step 4000, learning rate 0.08: minibatch loss = 0.63, minibatch accuracy = 84.38\n",
      "Step 4500, learning rate 0.07: minibatch loss = 0.52, minibatch accuracy = 90.62\n",
      "Final validation accuracy with batch_size = 128, regularization parameter = 0.010, init_learning_rate = 0.50 : 82.60\n",
      "\n",
      "Step 0, learning rate 0.50: minibatch loss = 114.04, minibatch accuracy = 7.81\n",
      "Step 500, learning rate 0.40: minibatch loss = 0.79, minibatch accuracy = 80.47\n",
      "Step 1000, learning rate 0.32: minibatch loss = 0.89, minibatch accuracy = 78.91\n",
      "Step 1500, learning rate 0.26: minibatch loss = 0.77, minibatch accuracy = 82.81\n",
      "Step 2000, learning rate 0.20: minibatch loss = 0.81, minibatch accuracy = 82.03\n",
      "Step 2500, learning rate 0.16: minibatch loss = 0.84, minibatch accuracy = 80.47\n",
      "Step 3000, learning rate 0.13: minibatch loss = 0.64, minibatch accuracy = 87.50\n",
      "Step 3500, learning rate 0.10: minibatch loss = 0.98, minibatch accuracy = 76.56\n",
      "Step 4000, learning rate 0.08: minibatch loss = 0.73, minibatch accuracy = 84.38\n",
      "Step 4500, learning rate 0.07: minibatch loss = 0.61, minibatch accuracy = 90.62\n",
      "Final validation accuracy with batch_size = 128, regularization parameter = 0.030, init_learning_rate = 0.50 : 81.89\n",
      "\n",
      "Step 0, learning rate 0.50: minibatch loss = 316.21, minibatch accuracy = 14.06\n",
      "Step 500, learning rate 0.40: minibatch loss = 0.99, minibatch accuracy = 79.69\n",
      "Step 1000, learning rate 0.32: minibatch loss = 1.09, minibatch accuracy = 77.34\n",
      "Step 1500, learning rate 0.26: minibatch loss = 0.97, minibatch accuracy = 81.25\n",
      "Step 2000, learning rate 0.20: minibatch loss = 0.98, minibatch accuracy = 80.47\n",
      "Step 2500, learning rate 0.16: minibatch loss = 1.06, minibatch accuracy = 75.78\n",
      "Step 3000, learning rate 0.13: minibatch loss = 0.86, minibatch accuracy = 88.28\n",
      "Step 3500, learning rate 0.10: minibatch loss = 1.16, minibatch accuracy = 75.78\n",
      "Step 4000, learning rate 0.08: minibatch loss = 0.93, minibatch accuracy = 82.81\n",
      "Step 4500, learning rate 0.07: minibatch loss = 0.79, minibatch accuracy = 89.06\n",
      "Final validation accuracy with batch_size = 128, regularization parameter = 0.100, init_learning_rate = 0.50 : 80.82\n",
      "\n",
      "Using best regul parameter (0.003)\n",
      "Step 0, learning rate 0.50: minibatch loss = 29.68, minibatch accuracy = 5.47\n",
      "Step 500, learning rate 0.40: minibatch loss = 3.46, minibatch accuracy = 77.34\n",
      "Step 1000, learning rate 0.32: minibatch loss = 1.59, minibatch accuracy = 82.03\n",
      "Step 1500, learning rate 0.26: minibatch loss = 0.98, minibatch accuracy = 84.38\n",
      "Step 2000, learning rate 0.20: minibatch loss = 0.88, minibatch accuracy = 81.25\n",
      "Step 2500, learning rate 0.16: minibatch loss = 0.77, minibatch accuracy = 82.81\n",
      "Step 3000, learning rate 0.13: minibatch loss = 0.52, minibatch accuracy = 89.84\n",
      "Step 3500, learning rate 0.10: minibatch loss = 0.88, minibatch accuracy = 78.91\n",
      "Step 4000, learning rate 0.08: minibatch loss = 0.61, minibatch accuracy = 85.94\n",
      "Step 4500, learning rate 0.07: minibatch loss = 0.51, minibatch accuracy = 89.84\n",
      "Final test accuracy with batch_size = 128, regularization parameter = 0.003, init_learning_rate = 0.50 : 89.47\n",
      "\n"
     ]
    }
   ],
   "source": [
    "def train_mini_batch(dataset, labels, session, step, batch_size, regularization, learning_rate):\n",
    "    offset = (step * batch_size) % (labels.shape[0] - batch_size)\n",
    "    batch_data = dataset[offset:(offset + batch_size), :]\n",
    "    batch_labels = labels[offset:(offset + batch_size), :]\n",
    "    \n",
    "    feed_dict = {\n",
    "        tf_train_dataset : batch_data, \n",
    "        tf_train_labels : batch_labels, \n",
    "        tf_p_regularization : regularization,\n",
    "        tf_p_learning_rate : learning_rate,\n",
    "    }\n",
    "    _, l, predictions = session.run([optimizer, loss, train_prediction], feed_dict=feed_dict)\n",
    "    acc = accuracy(predictions, batch_labels)\n",
    "    return l, acc\n",
    "    \n",
    "\n",
    "\n",
    "batch_size = 128\n",
    "\n",
    "regularization_parameters = [0, 0.001, 0.003, 0.01, 0.03, 0.1]\n",
    "init_learning_rate = 0.5\n",
    "decay = 0.8\n",
    "nb_steps = 5000\n",
    "\n",
    "accuracies = []\n",
    "\n",
    "for regularization in regularization_parameters:    \n",
    "    with tf.Session(graph=graph) as session:\n",
    "        tf.initialize_all_variables().run()\n",
    "        \n",
    "        step = 0\n",
    "        learning_rate = init_learning_rate\n",
    "        for step in range(nb_steps):\n",
    "            l, acc = train_mini_batch(train_dataset, train_labels, session, step, batch_size, regularization, learning_rate)\n",
    "            if (step % 500 == 0):\n",
    "                print('Step {}, learning rate {:.2f}: minibatch loss = {:.2f}, minibatch accuracy = {:.2f}'\n",
    "                      .format(step, learning_rate, l, acc))\n",
    "                learning_rate *= decay\n",
    "                \n",
    "        acc = accuracy(valid_prediction.eval(), valid_labels)\n",
    "        params = (batch_size, regularization, learning_rate, acc)\n",
    "        print(\"Final validation accuracy with batch_size = {}, regularization parameter = {:.3f}, init_learning_rate = {:.2f} : {:.2f}\\n\"\n",
    "              .format(batch_size, regularization, init_learning_rate, acc))\n",
    "        accuracies.append(params)\n",
    "        \n",
    "best_regul = regularization_parameters[np.argmax(accuracies, axis=0)[3]]\n",
    "print('Using best regul parameter ({})'.format(best_regul))\n",
    "\n",
    "with tf.Session(graph=graph) as session:\n",
    "        tf.initialize_all_variables().run()    \n",
    "        step = 0\n",
    "        learning_rate = init_learning_rate\n",
    "        for step in range(nb_steps):\n",
    "            l, acc = train_mini_batch(train_dataset, train_labels, session, step, batch_size, best_regul, learning_rate)\n",
    "            if (step % 500 == 0):\n",
    "                print('Step {}, learning rate {:.2f}: minibatch loss = {:.2f}, minibatch accuracy = {:.2f}'\n",
    "                      .format(step, learning_rate, l, acc))\n",
    "                learning_rate *= decay\n",
    "                \n",
    "        acc = accuracy(test_prediction.eval(), test_labels)\n",
    "        print(\"Final test accuracy with batch_size = {}, regularization parameter = {:.3f}, init_learning_rate = {:.2f} : {}\\n\"\n",
    "              .format(batch_size, best_regul, init_learning_rate, acc))\n",
    "    "
   ]
  },
  {
   "cell_type": "code",
   "execution_count": 29,
   "metadata": {
    "collapsed": true
   },
   "outputs": [],
   "source": [
    "batch_size = 128\n",
    "num_relus = 1024\n",
    "\n",
    "graph = tf.Graph()\n",
    "with graph.as_default():\n",
    "    # variable bash size\n",
    "    tf_train_dataset = tf.placeholder(tf.float32,shape=[None, image_size * image_size])\n",
    "    tf_train_labels = tf.placeholder(tf.float32, shape=[None, num_labels])\n",
    "    # variable regularization parameter\n",
    "    tf_p_regularization = tf.placeholder(tf.float32, shape=[])\n",
    "    # variable learning rate\n",
    "    tf_p_learning_rate = tf.placeholder(tf.float32, shape=[])\n",
    "    # variable momentum\n",
    "    # tf_p_momentum = tf.placeholder(tf.float32, shape=[])\n",
    "\n",
    "    tf_valid_dataset = tf.constant(valid_dataset)\n",
    "    tf_test_dataset = tf.constant(test_dataset)\n",
    "  \n",
    "    weights1 = tf.Variable(tf.truncated_normal([image_size * image_size, num_relus]))   \n",
    "    biases1 = tf.Variable(tf.zeros([num_relus]))\n",
    "    weights2 = tf.Variable(tf.truncated_normal([num_relus, num_labels]))\n",
    "    biases2 = tf.Variable(tf.zeros([num_labels]))\n",
    "\n",
    "    # Training computation.\n",
    "    logits1 = tf.matmul(tf_train_dataset, weights1) + biases1\n",
    "    logits2 = tf.nn.relu(logits1)\n",
    "    logits3 = tf.matmul(logits2, weights2) + biases2\n",
    "    loss = (tf.reduce_mean(tf.nn.softmax_cross_entropy_with_logits(logits3, tf_train_labels))\n",
    "            + tf_p_regularization * tf.nn.l2_loss(weights1)\n",
    "            + tf_p_regularization * tf.nn.l2_loss(weights2)\n",
    "           )\n",
    "\n",
    "    # Optimizer.\n",
    "    optimizer = tf.train.GradientDescentOptimizer(tf_p_learning_rate).minimize(loss)\n",
    "    \n",
    "    # Predictions for the training, validation, and test data.\n",
    "    train_prediction = tf.nn.softmax(logits3)\n",
    "    valid_prediction = tf.nn.softmax(tf.matmul(tf.nn.relu(tf.matmul(tf_valid_dataset, weights1) + biases1), weights2) + biases2)\n",
    "    test_prediction = tf.nn.softmax(tf.matmul(tf.nn.relu(tf.matmul(tf_test_dataset, weights1) + biases1), weights2) + biases2)"
   ]
  },
  {
   "cell_type": "code",
   "execution_count": 32,
   "metadata": {
    "collapsed": false,
    "scrolled": true
   },
   "outputs": [
    {
     "name": "stdout",
     "output_type": "stream",
     "text": [
      "Step 0, learning rate 0.50: minibatch loss = 392.51, minibatch accuracy = 5.47\n",
      "Step 500, learning rate 0.40: minibatch loss = 20.01, minibatch accuracy = 72.66\n",
      "Step 1000, learning rate 0.32: minibatch loss = 14.04, minibatch accuracy = 82.81\n",
      "Step 1500, learning rate 0.26: minibatch loss = 4.20, minibatch accuracy = 83.59\n",
      "Step 2000, learning rate 0.20: minibatch loss = 7.80, minibatch accuracy = 84.38\n",
      "Step 2500, learning rate 0.16: minibatch loss = 1.42, minibatch accuracy = 91.41\n",
      "Step 3000, learning rate 0.13: minibatch loss = 0.99, minibatch accuracy = 85.94\n",
      "Final validation accuracy with batch_size = 128, regularization parameter = 0.000, init_learning_rate = 0.50 : 83.61\n",
      "\n",
      "Step 0, learning rate 0.50: minibatch loss = 619.33, minibatch accuracy = 18.75\n",
      "Step 500, learning rate 0.40: minibatch loss = 228.81, minibatch accuracy = 76.56\n",
      "Step 1000, learning rate 0.32: minibatch loss = 156.57, minibatch accuracy = 78.12\n",
      "Step 1500, learning rate 0.26: minibatch loss = 116.23, minibatch accuracy = 85.94\n",
      "Step 2000, learning rate 0.20: minibatch loss = 95.16, minibatch accuracy = 85.94\n",
      "Step 2500, learning rate 0.16: minibatch loss = 79.88, minibatch accuracy = 89.84\n",
      "Step 3000, learning rate 0.13: minibatch loss = 69.86, minibatch accuracy = 91.41\n",
      "Final validation accuracy with batch_size = 128, regularization parameter = 0.001, init_learning_rate = 0.50 : 85.59\n",
      "\n",
      "Step 0, learning rate 0.50: minibatch loss = 1256.27, minibatch accuracy = 9.38\n",
      "Step 500, learning rate 0.40: minibatch loss = 282.88, minibatch accuracy = 82.03\n",
      "Step 1000, learning rate 0.32: minibatch loss = 107.48, minibatch accuracy = 84.38\n",
      "Step 1500, learning rate 0.26: minibatch loss = 49.41, minibatch accuracy = 89.84\n",
      "Step 2000, learning rate 0.20: minibatch loss = 27.00, minibatch accuracy = 86.72\n",
      "Step 2500, learning rate 0.16: minibatch loss = 16.64, minibatch accuracy = 89.06\n",
      "Step 3000, learning rate 0.13: minibatch loss = 11.34, minibatch accuracy = 92.19\n",
      "Final validation accuracy with batch_size = 128, regularization parameter = 0.003, init_learning_rate = 0.50 : 87.14\n",
      "\n",
      "Step 0, learning rate 0.50: minibatch loss = 3482.71, minibatch accuracy = 9.38\n",
      "Step 500, learning rate 0.40: minibatch loss = 56.48, minibatch accuracy = 87.50\n",
      "Step 1000, learning rate 0.32: minibatch loss = 3.04, minibatch accuracy = 83.59\n",
      "Step 1500, learning rate 0.26: minibatch loss = 0.86, minibatch accuracy = 86.72\n",
      "Step 2000, learning rate 0.20: minibatch loss = 0.72, minibatch accuracy = 85.94\n",
      "Step 2500, learning rate 0.16: minibatch loss = 0.68, minibatch accuracy = 85.16\n",
      "Step 3000, learning rate 0.13: minibatch loss = 0.54, minibatch accuracy = 89.84\n",
      "Final validation accuracy with batch_size = 128, regularization parameter = 0.010, init_learning_rate = 0.50 : 84.70\n",
      "\n",
      "Step 0, learning rate 0.50: minibatch loss = 9845.86, minibatch accuracy = 7.81\n",
      "Step 500, learning rate 0.40: minibatch loss = 0.97, minibatch accuracy = 79.69\n",
      "Step 1000, learning rate 0.32: minibatch loss = 0.98, minibatch accuracy = 81.25\n",
      "Step 1500, learning rate 0.26: minibatch loss = 0.89, minibatch accuracy = 83.59\n",
      "Step 2000, learning rate 0.20: minibatch loss = 0.88, minibatch accuracy = 84.38\n",
      "Step 2500, learning rate 0.16: minibatch loss = 0.92, minibatch accuracy = 80.47\n",
      "Step 3000, learning rate 0.13: minibatch loss = 0.75, minibatch accuracy = 88.28\n",
      "Final validation accuracy with batch_size = 128, regularization parameter = 0.030, init_learning_rate = 0.50 : 82.09\n",
      "\n",
      "Step 0, learning rate 0.50: minibatch loss = 31839.78, minibatch accuracy = 7.03\n",
      "Step 500, learning rate 0.40: minibatch loss = 1.37, minibatch accuracy = 77.34\n",
      "Step 1000, learning rate 0.32: minibatch loss = 1.42, minibatch accuracy = 78.12\n",
      "Step 1500, learning rate 0.26: minibatch loss = 1.32, minibatch accuracy = 81.25\n",
      "Step 2000, learning rate 0.20: minibatch loss = 1.31, minibatch accuracy = 82.03\n",
      "Step 2500, learning rate 0.16: minibatch loss = 1.39, minibatch accuracy = 77.34\n",
      "Step 3000, learning rate 0.13: minibatch loss = 1.21, minibatch accuracy = 87.50\n",
      "Final validation accuracy with batch_size = 128, regularization parameter = 0.100, init_learning_rate = 0.50 : 79.74\n",
      "\n",
      "Using best regul parameter (0.003)\n",
      "Step 0, learning rate 0.50: minibatch loss = 1359.51, minibatch accuracy = 3.91\n",
      "Step 500, learning rate 0.40: minibatch loss = 283.84, minibatch accuracy = 71.88\n",
      "Step 1000, learning rate 0.32: minibatch loss = 107.62, minibatch accuracy = 80.47\n",
      "Step 1500, learning rate 0.26: minibatch loss = 49.40, minibatch accuracy = 85.94\n",
      "Step 2000, learning rate 0.20: minibatch loss = 26.93, minibatch accuracy = 89.06\n",
      "Step 2500, learning rate 0.16: minibatch loss = 16.66, minibatch accuracy = 87.50\n",
      "Step 3000, learning rate 0.13: minibatch loss = 11.35, minibatch accuracy = 90.62\n",
      "Final test accuracy with batch_size = 128, regularization parameter = 0.003, init_learning_rate = 0.50 : 92.97\n",
      "\n"
     ]
    }
   ],
   "source": [
    "batch_size = 128\n",
    "\n",
    "regularization_parameters = [0, 0.001, 0.003, 0.01, 0.03, 0.1]\n",
    "init_learning_rate = 0.5\n",
    "decay = 0.8\n",
    "nb_steps = 3001\n",
    "\n",
    "accuracies = []\n",
    "\n",
    "for regularization in regularization_parameters:    \n",
    "    with tf.Session(graph=graph) as session:\n",
    "        tf.initialize_all_variables().run()\n",
    "        \n",
    "        step = 0\n",
    "        learning_rate = init_learning_rate\n",
    "        for step in range(nb_steps):\n",
    "            l, acc = train_mini_batch(train_dataset, train_labels, session, step, batch_size, regularization, learning_rate)\n",
    "            if (step % 500 == 0):\n",
    "                print('Step {}, learning rate {:.2f}: minibatch loss = {:.2f}, minibatch accuracy = {:.2f}'\n",
    "                      .format(step, learning_rate, l, acc))\n",
    "                learning_rate *= decay\n",
    "                \n",
    "        acc = accuracy(valid_prediction.eval(), valid_labels)\n",
    "        params = (batch_size, regularization, learning_rate, acc)\n",
    "        print(\"Final validation accuracy with batch_size = {}, regularization parameter = {:.3f}, init_learning_rate = {:.2f} : {:.2f}\\n\"\n",
    "              .format(batch_size, regularization, init_learning_rate, acc))\n",
    "        accuracies.append(params)\n",
    "        \n",
    "best_regul = regularization_parameters[np.argmax(accuracies, axis=0)[3]]\n",
    "print('Using best regul parameter ({})'.format(best_regul))\n",
    "\n",
    "with tf.Session(graph=graph) as session:\n",
    "        tf.initialize_all_variables().run()    \n",
    "        step = 0\n",
    "        learning_rate = init_learning_rate\n",
    "        for step in range(nb_steps):\n",
    "            l, acc = train_mini_batch(train_dataset, train_labels, session, step, batch_size, best_regul, learning_rate)\n",
    "            if (step % 500 == 0):\n",
    "                print('Step {}, learning rate {:.2f}: minibatch loss = {:.2f}, minibatch accuracy = {:.2f}'\n",
    "                      .format(step, learning_rate, l, acc))\n",
    "                learning_rate *= decay\n",
    "                \n",
    "        acc = accuracy(test_prediction.eval(), test_labels)\n",
    "        print(\"Final test accuracy with batch_size = {}, regularization parameter = {:.3f}, init_learning_rate = {:.2f} : {}\\n\"\n",
    "              .format(batch_size, best_regul, init_learning_rate, acc))\n",
    "    "
   ]
  },
  {
   "cell_type": "markdown",
   "metadata": {
    "colab_type": "text",
    "id": "na8xX2yHZzNF"
   },
   "source": [
    "---\n",
    "Problem 2\n",
    "---------\n",
    "Let's demonstrate an extreme case of overfitting. Restrict your training data to just a few batches. What happens?\n",
    "\n",
    "---"
   ]
  },
  {
   "cell_type": "code",
   "execution_count": 34,
   "metadata": {
    "collapsed": false
   },
   "outputs": [
    {
     "name": "stdout",
     "output_type": "stream",
     "text": [
      "Step 0, learning rate 0.50: minibatch loss = 9768.02, minibatch accuracy = 7.81\n",
      "Step 500, learning rate 0.40: minibatch loss = 0.66, minibatch accuracy = 100.00\n",
      "Step 1000, learning rate 0.32: minibatch loss = 0.55, minibatch accuracy = 100.00\n",
      "Step 1500, learning rate 0.26: minibatch loss = 0.54, minibatch accuracy = 100.00\n",
      "Step 2000, learning rate 0.20: minibatch loss = 0.53, minibatch accuracy = 100.00\n",
      "Step 2500, learning rate 0.16: minibatch loss = 0.53, minibatch accuracy = 100.00\n",
      "Step 3000, learning rate 0.13: minibatch loss = 0.53, minibatch accuracy = 100.00\n",
      "Final test accuracy with batch_size = 128, regularization parameter = 0.030, init_learning_rate = 0.50 : 83.57\n",
      "\n"
     ]
    }
   ],
   "source": [
    "batch_size = 128\n",
    "\n",
    "best_regul = 0.003\n",
    "init_learning_rate = 0.5\n",
    "decay = 0.8\n",
    "nb_steps = 3001\n",
    "\n",
    "accuracies = []\n",
    "\n",
    "with tf.Session(graph=graph) as session:\n",
    "        tf.initialize_all_variables().run()    \n",
    "        step = 0\n",
    "        learning_rate = init_learning_rate\n",
    "        for step in range(nb_steps):\n",
    "            l, acc = train_mini_batch(train_dataset[:3*batch_size], train_labels[:3*batch_size], session, step, batch_size, best_regul, learning_rate)\n",
    "            if (step % 500 == 0):\n",
    "                print('Step {}, learning rate {:.2f}: minibatch loss = {:.2f}, minibatch accuracy = {:.2f}'\n",
    "                      .format(step, learning_rate, l, acc))\n",
    "                learning_rate *= decay\n",
    "                \n",
    "        acc = accuracy(test_prediction.eval(), test_labels)\n",
    "        print(\"Final test accuracy with batch_size = {}, regularization parameter = {:.3f}, init_learning_rate = {:.2f} : {}\\n\"\n",
    "              .format(batch_size, best_regul, init_learning_rate, acc))\n",
    "    "
   ]
  },
  {
   "cell_type": "markdown",
   "metadata": {
    "colab_type": "text",
    "id": "ww3SCBUdlkRc"
   },
   "source": [
    "---\n",
    "Problem 3\n",
    "---------\n",
    "Introduce Dropout on the hidden layer of the neural network. Remember: Dropout should only be introduced during training, not evaluation, otherwise your evaluation results would be stochastic as well. TensorFlow provides `nn.dropout()` for that, but you have to make sure it's only inserted during training.\n",
    "\n",
    "What happens to our extreme overfitting case?\n",
    "\n",
    "---"
   ]
  },
  {
   "cell_type": "code",
   "execution_count": 39,
   "metadata": {
    "collapsed": true
   },
   "outputs": [],
   "source": [
    "batch_size = 128\n",
    "num_relus = 1024\n",
    "\n",
    "graph = tf.Graph()\n",
    "with graph.as_default():\n",
    "    # variable bash size\n",
    "    tf_train_dataset = tf.placeholder(tf.float32,shape=[None, image_size * image_size])\n",
    "    tf_train_labels = tf.placeholder(tf.float32, shape=[None, num_labels])\n",
    "    # variable learning rate\n",
    "    tf_p_learning_rate = tf.placeholder(tf.float32, shape=[])\n",
    "    # variable momentum\n",
    "    # tf_p_momentum = tf.placeholder(tf.float32, shape=[])\n",
    "\n",
    "    tf_valid_dataset = tf.constant(valid_dataset)\n",
    "    tf_test_dataset = tf.constant(test_dataset)\n",
    "  \n",
    "    weights1 = tf.Variable(tf.truncated_normal([image_size * image_size, num_relus]))   \n",
    "    biases1 = tf.Variable(tf.zeros([num_relus]))\n",
    "    weights2 = tf.Variable(tf.truncated_normal([num_relus, num_labels]))\n",
    "    biases2 = tf.Variable(tf.zeros([num_labels]))\n",
    "\n",
    "    # Training computation.\n",
    "    logits1 = tf.matmul(tf_train_dataset, weights1) + biases1\n",
    "    logits2 = tf.nn.relu(logits1)\n",
    "    logits3 = tf.matmul(logits2, weights2) + biases2\n",
    "    logits4 = tf.nn.dropout(logits3, 0.5)\n",
    "    loss = tf.reduce_mean(tf.nn.softmax_cross_entropy_with_logits(logits4, tf_train_labels))\n",
    "\n",
    "    # Optimizer.\n",
    "    optimizer = tf.train.GradientDescentOptimizer(tf_p_learning_rate).minimize(loss)\n",
    "    \n",
    "    # Predictions for the training, validation, and test data.\n",
    "    train_prediction = tf.nn.softmax(logits4)\n",
    "    valid_prediction = tf.nn.softmax(tf.matmul(tf.nn.relu(tf.matmul(tf_valid_dataset, weights1) + biases1), weights2) + biases2)\n",
    "    test_prediction = tf.nn.softmax(tf.matmul(tf.nn.relu(tf.matmul(tf_test_dataset, weights1) + biases1), weights2) + biases2)"
   ]
  },
  {
   "cell_type": "code",
   "execution_count": 40,
   "metadata": {
    "collapsed": false
   },
   "outputs": [
    {
     "name": "stdout",
     "output_type": "stream",
     "text": [
      "Step 0, learning rate 0.50: minibatch loss = 687.36, minibatch accuracy = 10.16\n",
      "Step 500, learning rate 0.40: minibatch loss = 0.88, minibatch accuracy = 52.34\n",
      "Step 1000, learning rate 0.32: minibatch loss = 0.94, minibatch accuracy = 50.78\n",
      "Step 1500, learning rate 0.26: minibatch loss = 0.74, minibatch accuracy = 63.28\n",
      "Step 2000, learning rate 0.20: minibatch loss = 0.82, minibatch accuracy = 60.94\n",
      "Step 2500, learning rate 0.16: minibatch loss = 0.81, minibatch accuracy = 53.12\n",
      "Step 3000, learning rate 0.13: minibatch loss = 0.75, minibatch accuracy = 61.72\n",
      "Final test accuracy with batch_size = 128, dropout half, init_learning_rate = 0.50 : 78.71\n",
      "\n"
     ]
    }
   ],
   "source": [
    "def train_mini_batch(dataset, labels, session, step, batch_size, learning_rate):\n",
    "    offset = (step * batch_size) % (labels.shape[0] - batch_size)\n",
    "    batch_data = dataset[offset:(offset + batch_size), :]\n",
    "    batch_labels = labels[offset:(offset + batch_size), :]\n",
    "    \n",
    "    feed_dict = {\n",
    "        tf_train_dataset : batch_data, \n",
    "        tf_train_labels : batch_labels, \n",
    "        tf_p_learning_rate : learning_rate,\n",
    "    }\n",
    "    _, l, predictions = session.run([optimizer, loss, train_prediction], feed_dict=feed_dict)\n",
    "    acc = accuracy(predictions, batch_labels)\n",
    "    return l, acc\n",
    "\n",
    "batch_size = 128\n",
    "\n",
    "best_regul = 0.003\n",
    "init_learning_rate = 0.5\n",
    "decay = 0.8\n",
    "nb_steps = 3001\n",
    "\n",
    "accuracies = []\n",
    "\n",
    "with tf.Session(graph=graph) as session:\n",
    "        tf.initialize_all_variables().run()    \n",
    "        step = 0\n",
    "        learning_rate = init_learning_rate\n",
    "        for step in range(nb_steps):\n",
    "            l, acc = train_mini_batch(train_dataset[:3*batch_size], train_labels[:3*batch_size], session, step, batch_size, learning_rate)\n",
    "            if (step % 500 == 0):\n",
    "                print('Step {}, learning rate {:.2f}: minibatch loss = {:.2f}, minibatch accuracy = {:.2f}'\n",
    "                      .format(step, learning_rate, l, acc))\n",
    "                learning_rate *= decay\n",
    "                \n",
    "        acc = accuracy(test_prediction.eval(), test_labels)\n",
    "        print(\"Final test accuracy with batch_size = {}, dropout half, init_learning_rate = {:.2f} : {}\\n\"\n",
    "              .format(batch_size, init_learning_rate, acc))\n",
    "    "
   ]
  },
  {
   "cell_type": "markdown",
   "metadata": {
    "colab_type": "text",
    "id": "-b1hTz3VWZjw"
   },
   "source": [
    "---\n",
    "Problem 4\n",
    "---------\n",
    "\n",
    "Try to get the best performance you can using a multi-layer model! The best reported test accuracy using a deep network is [97.1%](http://yaroslavvb.blogspot.com/2011/09/notmnist-dataset.html?showComment=1391023266211#c8758720086795711595).\n",
    "\n",
    "One avenue you can explore is to add multiple layers.\n",
    "\n",
    "Another one is to use learning rate decay:\n",
    "\n",
    "    global_step = tf.Variable(0)  # count the number of steps taken.\n",
    "    learning_rate = tf.train.exponential_decay(0.5, global_step, ...)\n",
    "    optimizer = tf.train.GradientDescentOptimizer(learning_rate).minimize(loss, global_step=global_step)\n",
    " \n",
    " ---\n"
   ]
  }
 ],
 "metadata": {
  "colab": {
   "default_view": {},
   "name": "3_regularization.ipynb",
   "provenance": [],
   "version": "0.3.2",
   "views": {}
  },
  "kernelspec": {
   "display_name": "Python 3",
   "language": "python",
   "name": "python3"
  },
  "language_info": {
   "codemirror_mode": {
    "name": "ipython",
    "version": 3
   },
   "file_extension": ".py",
   "mimetype": "text/x-python",
   "name": "python",
   "nbconvert_exporter": "python",
   "pygments_lexer": "ipython3",
   "version": "3.5.2"
  }
 },
 "nbformat": 4,
 "nbformat_minor": 0
}
